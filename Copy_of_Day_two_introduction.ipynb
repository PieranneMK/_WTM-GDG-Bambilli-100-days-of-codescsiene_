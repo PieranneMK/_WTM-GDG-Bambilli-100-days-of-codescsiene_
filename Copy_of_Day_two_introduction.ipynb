{
  "nbformat": 4,
  "nbformat_minor": 0,
  "metadata": {
    "colab": {
      "provenance": [],
      "toc_visible": true,
      "authorship_tag": "ABX9TyPCLw5yT/qxNq2Uiod9UM4y",
      "include_colab_link": true
    },
    "kernelspec": {
      "name": "python3",
      "display_name": "Python 3"
    },
    "language_info": {
      "name": "python"
    }
  },
  "cells": [
    {
      "cell_type": "markdown",
      "metadata": {
        "id": "view-in-github",
        "colab_type": "text"
      },
      "source": [
        "<a href=\"https://colab.research.google.com/github/PieranneMK/_WTM-GDG-Bambilli-100-days-of-codescsiene_/blob/main/Copy_of_Day_two_introduction.ipynb\" target=\"_parent\"><img src=\"https://colab.research.google.com/assets/colab-badge.svg\" alt=\"Open In Colab\"/></a>"
      ]
    },
    {
      "cell_type": "code",
      "execution_count": null,
      "metadata": {
        "colab": {
          "base_uri": "https://localhost:8080/"
        },
        "id": "1q_aq4mUo7oI",
        "outputId": "fa77bfae-7ceb-4f60-e73b-ee587262e798"
      },
      "outputs": [
        {
          "output_type": "stream",
          "name": "stdout",
          "text": [
            "Hello world\n"
          ]
        }
      ],
      "source": [
        "print('Hello world')"
      ]
    },
    {
      "cell_type": "code",
      "source": [
        "sample_variable=None\n",
        "#starting with floats, intergers, # or small letters, code would not run"
      ],
      "metadata": {
        "id": "UnbaO2hkw0pw"
      },
      "execution_count": null,
      "outputs": []
    },
    {
      "cell_type": "code",
      "source": [
        "sample_variable=\"Hello world\""
      ],
      "metadata": {
        "id": "-3Xz0BNKxMsQ"
      },
      "execution_count": null,
      "outputs": []
    },
    {
      "cell_type": "code",
      "source": [
        "print(sample_variable)"
      ],
      "metadata": {
        "id": "gI55SkPexUwv",
        "outputId": "f7302df0-f18b-4a0e-b142-db902ec7e357",
        "colab": {
          "base_uri": "https://localhost:8080/"
        }
      },
      "execution_count": null,
      "outputs": [
        {
          "output_type": "stream",
          "name": "stdout",
          "text": [
            "Hello world\n"
          ]
        }
      ]
    }
  ]
}